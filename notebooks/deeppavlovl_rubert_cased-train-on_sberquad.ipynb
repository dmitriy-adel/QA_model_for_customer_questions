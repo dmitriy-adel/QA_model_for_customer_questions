{
 "cells": [
  {
   "cell_type": "markdown",
   "id": "8b7e8341-89ec-4306-ae22-03776bffdc6b",
   "metadata": {},
   "source": [
    "### заметки\n",
    "\n",
    "1. определиться с архитектурой модели. попробовать модернберт от дипвк и руберт от диппавлова\n",
    "2. провести обрааботку датасета, добавить свои записи\n",
    "\n",
    "\n",
    "время обучения модели с полным датасетом sberquad при приведенных гиперпараметрах (LR = 5e-5 ; BS = 32 ; N_EPOCHS = 10 ; WD = 0.05 ; WARMUP = 0.1 ; GRAD_ACC = 2) на TESLA a100 занимает порядка 50 минут. было бы не плохо подрубить логирование в облако"
   ]
  },
  {
   "cell_type": "markdown",
   "id": "d39d1111-37ee-456e-b2d4-967b4131de43",
   "metadata": {},
   "source": [
    "### imports ; freezes ; model init "
   ]
  },
  {
   "cell_type": "code",
   "execution_count": 20,
   "id": "9a970b9a-f30b-4455-a77b-a6121af7f2a8",
   "metadata": {},
   "outputs": [],
   "source": [
    "import torch\n",
    "from transformers import (AutoTokenizer, AutoModelForQuestionAnswering, Trainer, \n",
    "                          DataCollatorForTokenClassification, TrainingArguments) \n",
    "\n",
    "from datasets import load_dataset, load_metric\n",
    "import numpy as np\n",
    "\n",
    "import random"
   ]
  },
  {
   "cell_type": "code",
   "execution_count": 2,
   "id": "65d9c755-fe35-47bf-9358-1360b8c3021a",
   "metadata": {},
   "outputs": [],
   "source": [
    "def set_seed(seed: int = 42) -> bool:\n",
    "    try:\n",
    "        random.seed(seed)\n",
    "        np.random.seed(seed)\n",
    "        torch.manual_seed(seed)\n",
    "        torch.cuda.manual_seed_all(seed)\n",
    "\n",
    "        torch.backends.cudnn.deterministic = True\n",
    "        torch.backends.cudnn.benchmark = False\n",
    "        return True\n",
    "\n",
    "    except Exception as _ex:\n",
    "        print(f'Error while setting seeds. Error :: {_ex}')\n",
    "        return False\n",
    "\n",
    "set_seed(42)"
   ]
  },
  {
   "cell_type": "code",
   "execution_count": 10,
   "id": "9d604bbb-dfa2-4a54-a8ef-15fa9dfc8736",
   "metadata": {},
   "outputs": [
    {
     "name": "stderr",
     "output_type": "stream",
     "text": [
      "/home/golubev.dmitriy25/notebooks/models_train/task_venvs/qa_train_venv/lib/python3.10/site-packages/huggingface_hub/file_download.py:943: FutureWarning: `resume_download` is deprecated and will be removed in version 1.0.0. Downloads always resume when possible. If you want to force a new download, use `force_download=True`.\n",
      "  warnings.warn(\n",
      "Some weights of BertForQuestionAnswering were not initialized from the model checkpoint at DeepPavlov/rubert-base-cased and are newly initialized: ['qa_outputs.bias', 'qa_outputs.weight']\n",
      "You should probably TRAIN this model on a down-stream task to be able to use it for predictions and inference.\n",
      "Downloading builder script: 4.50kB [00:00, 8.75MB/s]                   \n",
      "Downloading extra modules: 3.30kB [00:00, 7.96MB/s]                   \n"
     ]
    }
   ],
   "source": [
    "model_checkpoint: str = \"DeepPavlov/rubert-base-cased\"\n",
    "tokenizer: AutoTokenizer = AutoTokenizer.from_pretrained(model_checkpoint)\n",
    "model: AutoModelForQuestionAnswering = AutoModelForQuestionAnswering.from_pretrained(model_checkpoint)\n",
    "\n",
    "metric = load_metric(\"squad\")"
   ]
  },
  {
   "cell_type": "markdown",
   "id": "4581dea8-059e-4f6b-bae5-e260b32db81f",
   "metadata": {},
   "source": [
    "### dataset preparetion"
   ]
  },
  {
   "cell_type": "code",
   "execution_count": 11,
   "id": "b35e4049-fce5-4f07-9b42-a56aa1e9053a",
   "metadata": {},
   "outputs": [
    {
     "name": "stderr",
     "output_type": "stream",
     "text": [
      "Downloading readme: 5.16kB [00:00, 14.8MB/s]\n"
     ]
    },
    {
     "data": {
      "text/plain": [
       "DatasetDict({\n",
       "    train: Dataset({\n",
       "        features: ['id', 'title', 'context', 'question', 'answers'],\n",
       "        num_rows: 45328\n",
       "    })\n",
       "    validation: Dataset({\n",
       "        features: ['id', 'title', 'context', 'question', 'answers'],\n",
       "        num_rows: 5036\n",
       "    })\n",
       "    test: Dataset({\n",
       "        features: ['id', 'title', 'context', 'question', 'answers'],\n",
       "        num_rows: 23936\n",
       "    })\n",
       "})"
      ]
     },
     "execution_count": 11,
     "metadata": {},
     "output_type": "execute_result"
    }
   ],
   "source": [
    "raw_datasets = load_dataset(\"kuznetsoffandrey/sberquad\")\n",
    "raw_datasets"
   ]
  },
  {
   "cell_type": "code",
   "execution_count": null,
   "id": "5ad18fc9",
   "metadata": {},
   "outputs": [],
   "source": [
    "# оставляем только те записи, ответ на которые длиннее 20-ти симмволов\n",
    "\n",
    "# def filter_long_answers(example) -> bool:\n",
    "#     return bool(example[\"answers\"][\"text\"]) and len(example[\"answers\"][\"text\"][0]) > 20\n",
    "\n",
    "\n",
    "# filtered_train = raw_datasets[\"train\"].filter(filter_long_answers)\n",
    "# filtered_validation = raw_datasets[\"validation\"].filter(filter_long_answers)\n",
    "\n",
    "# raw_datasets = raw_datasets.copy()\n",
    "# raw_datasets[\"train\"] = filtered_train\n",
    "# raw_datasets[\"validation\"] = filtered_validation"
   ]
  },
  {
   "cell_type": "code",
   "execution_count": 28,
   "id": "80e81473-5df8-4b1d-91b2-2f095c048690",
   "metadata": {},
   "outputs": [],
   "source": [
    "stride: int = 128\n",
    "max_length: int = 512"
   ]
  },
  {
   "cell_type": "code",
   "execution_count": 29,
   "id": "d366a4b8-cdd8-4cd9-a4c3-e636ae6efc88",
   "metadata": {},
   "outputs": [
    {
     "name": "stderr",
     "output_type": "stream",
     "text": [
      "Map: 100%|██████████| 22363/22363 [00:05<00:00, 3761.94 examples/s]\n"
     ]
    }
   ],
   "source": [
    "def preprocess_training_examples(examples):\n",
    "    questions: list[str] = [q.strip() for q in examples[\"question\"]]\n",
    "    inputs = tokenizer(\n",
    "        questions,\n",
    "        examples[\"context\"],\n",
    "        max_length=max_length,\n",
    "        truncation=\"only_second\",\n",
    "        stride=stride,\n",
    "        return_overflowing_tokens=True,\n",
    "        return_offsets_mapping=True,\n",
    "        padding=\"max_length\",\n",
    "    )\n",
    "\n",
    "    offset_mapping = inputs.pop(\"offset_mapping\")\n",
    "    sample_map = inputs.pop(\"overflow_to_sample_mapping\")\n",
    "    answers: str = examples[\"answers\"]\n",
    "    start_positions: list[int] = []\n",
    "    end_positions: list[int] = []\n",
    "\n",
    "    for i, offset in enumerate(offset_mapping):\n",
    "        sample_idx: int = sample_map[i]\n",
    "        answer: str = answers[sample_idx]\n",
    "        start_char: str = answer[\"answer_start\"][0]\n",
    "        end_char: str = answer[\"answer_start\"][0] + len(answer[\"text\"][0])\n",
    "        sequence_ids: list[int] = inputs.sequence_ids(i)\n",
    "\n",
    "        idx: int = 0\n",
    "        while sequence_ids[idx] != 1:\n",
    "            idx += 1\n",
    "\n",
    "        context_start: int = idx\n",
    "        while sequence_ids[idx] == 1:\n",
    "            idx += 1\n",
    "\n",
    "        context_end: int = idx - 1\n",
    "\n",
    "        if offset[context_start][0] > start_char or offset[context_end][1] < end_char:\n",
    "            start_positions.append(0)\n",
    "            end_positions.append(0)\n",
    "\n",
    "        else:\n",
    "            idx = context_start\n",
    "            while idx <= context_end and offset[idx][0] <= start_char:\n",
    "                idx += 1\n",
    "\n",
    "            start_positions.append(idx - 1)\n",
    "            idx = context_end\n",
    "            while idx >= context_start and offset[idx][1] >= end_char:\n",
    "                idx -= 1\n",
    "                \n",
    "            end_positions.append(idx + 1)\n",
    "\n",
    "    inputs[\"start_positions\"] = start_positions\n",
    "    inputs[\"end_positions\"] = end_positions\n",
    "    return inputs\n",
    "\n",
    "\n",
    "train_dataset = raw_datasets[\"train\"].map(\n",
    "    preprocess_training_examples,\n",
    "    batched=True,\n",
    "    remove_columns=raw_datasets[\"train\"].column_names,\n",
    ")"
   ]
  },
  {
   "cell_type": "code",
   "execution_count": 30,
   "id": "d7b2b082-20d2-41a4-a217-b3e80b47482c",
   "metadata": {},
   "outputs": [
    {
     "name": "stderr",
     "output_type": "stream",
     "text": [
      "Map: 100%|██████████| 2620/2620 [00:00<00:00, 3049.71 examples/s]\n"
     ]
    }
   ],
   "source": [
    "def preprocess_validation_examples(examples):\n",
    "    questions: list[str] = [q.strip() for q in examples[\"question\"]]\n",
    "    inputs = tokenizer(\n",
    "        questions,\n",
    "        examples[\"context\"],\n",
    "        max_length=max_length,\n",
    "        truncation=\"only_second\",\n",
    "        stride=stride,\n",
    "        return_overflowing_tokens=True,\n",
    "        return_offsets_mapping=True,\n",
    "        padding=\"max_length\",\n",
    "    )\n",
    "\n",
    "    sample_map = inputs.pop(\"overflow_to_sample_mapping\")\n",
    "    example_ids: list[int] = []\n",
    "\n",
    "    for i in range(len(inputs[\"input_ids\"])):\n",
    "        sample_idx: int = sample_map[i]\n",
    "        example_ids.append(examples[\"id\"][sample_idx])\n",
    "\n",
    "        sequence_ids: list[int] = inputs.sequence_ids(i)\n",
    "        offset: str = inputs[\"offset_mapping\"][i]\n",
    "        inputs[\"offset_mapping\"][i] = [\n",
    "            o if sequence_ids[k] == 1 else None for k, o in enumerate(offset)\n",
    "        ]\n",
    "\n",
    "    inputs[\"example_id\"] = example_ids\n",
    "    return inputs\n",
    "\n",
    "\n",
    "validation_dataset = raw_datasets[\"validation\"].map(\n",
    "    preprocess_validation_examples,\n",
    "    batched=True,\n",
    "    remove_columns=raw_datasets[\"validation\"].column_names,\n",
    ")"
   ]
  },
  {
   "cell_type": "markdown",
   "id": "e93a7d30-f73f-4792-99ab-86e1996ce5c3",
   "metadata": {},
   "source": [
    "### model train"
   ]
  },
  {
   "cell_type": "code",
   "execution_count": 31,
   "id": "e718177e-befe-4260-9b32-cd163f0ada39",
   "metadata": {},
   "outputs": [],
   "source": [
    "def compute_metrics(p):\n",
    "    return metric.compute(predictions=p.predictions, references=p.label_ids)\n",
    "\n",
    "\n",
    "data_collator = DataCollatorForTokenClassification(tokenizer)"
   ]
  },
  {
   "cell_type": "code",
   "execution_count": 32,
   "id": "44180da1-9561-45eb-8009-e6aed5eb184b",
   "metadata": {},
   "outputs": [],
   "source": [
    "LR: float = 5e-5\n",
    "BS: int = 32\n",
    "N_EPOCHS: int = 10\n",
    "WD: float = 0.05\n",
    "WARMUP: float = 0.1\n",
    "GRAD_ACC: int = 2\n",
    "\n",
    "\n",
    "training_args = TrainingArguments(\n",
    "    output_dir=\"./results\",                   \n",
    "    evaluation_strategy=\"epoch\",\n",
    "    logging_strategy=\"epoch\",\n",
    "    save_strategy=\"no\",\n",
    "    \n",
    "    load_best_model_at_end=False,\n",
    "    learning_rate=LR,\n",
    "    per_device_train_batch_size=BS,\n",
    "    per_device_eval_batch_size=BS,\n",
    "    num_train_epochs=N_EPOCHS,\n",
    "    weight_decay=WD,\n",
    "    gradient_accumulation_steps=GRAD_ACC,\n",
    "    warmup_ratio=WARMUP,\n",
    "    fp16=True,                     \n",
    ")\n",
    "\n",
    "trainer = Trainer(\n",
    "    model=model,\n",
    "    args=training_args,\n",
    "    train_dataset=train_dataset,\n",
    "    eval_dataset=validation_dataset,\n",
    "    tokenizer=tokenizer,\n",
    "    compute_metrics=compute_metrics\n",
    ")"
   ]
  },
  {
   "cell_type": "code",
   "execution_count": null,
   "id": "13d810a7-5215-4620-850e-919f07b10386",
   "metadata": {},
   "outputs": [
    {
     "data": {
      "text/html": [
       "\n",
       "    <div>\n",
       "      \n",
       "      <progress value='3384' max='3500' style='width:300px; height:20px; vertical-align: middle;'></progress>\n",
       "      [3384/3500 22:19 < 00:45, 2.52 it/s, Epoch 9.67/10]\n",
       "    </div>\n",
       "    <table border=\"1\" class=\"dataframe\">\n",
       "  <thead>\n",
       " <tr style=\"text-align: left;\">\n",
       "      <th>Epoch</th>\n",
       "      <th>Training Loss</th>\n",
       "      <th>Validation Loss</th>\n",
       "    </tr>\n",
       "  </thead>\n",
       "  <tbody>\n",
       "    <tr>\n",
       "      <td>1</td>\n",
       "      <td>0.096100</td>\n",
       "      <td>No log</td>\n",
       "    </tr>\n",
       "    <tr>\n",
       "      <td>2</td>\n",
       "      <td>0.182600</td>\n",
       "      <td>No log</td>\n",
       "    </tr>\n",
       "    <tr>\n",
       "      <td>3</td>\n",
       "      <td>0.154300</td>\n",
       "      <td>No log</td>\n",
       "    </tr>\n",
       "    <tr>\n",
       "      <td>4</td>\n",
       "      <td>0.106200</td>\n",
       "      <td>No log</td>\n",
       "    </tr>\n",
       "    <tr>\n",
       "      <td>5</td>\n",
       "      <td>0.084000</td>\n",
       "      <td>No log</td>\n",
       "    </tr>\n",
       "    <tr>\n",
       "      <td>6</td>\n",
       "      <td>0.060200</td>\n",
       "      <td>No log</td>\n",
       "    </tr>\n",
       "    <tr>\n",
       "      <td>7</td>\n",
       "      <td>0.043000</td>\n",
       "      <td>No log</td>\n",
       "    </tr>\n",
       "    <tr>\n",
       "      <td>8</td>\n",
       "      <td>0.028000</td>\n",
       "      <td>No log</td>\n",
       "    </tr>\n",
       "    <tr>\n",
       "      <td>9</td>\n",
       "      <td>0.017400</td>\n",
       "      <td>No log</td>\n",
       "    </tr>\n",
       "  </tbody>\n",
       "</table><p>"
      ],
      "text/plain": [
       "<IPython.core.display.HTML object>"
      ]
     },
     "metadata": {},
     "output_type": "display_data"
    }
   ],
   "source": [
    "trainer.train()"
   ]
  },
  {
   "cell_type": "code",
   "execution_count": null,
   "id": "5a0abeec-a672-492c-a46f-0dbf37417069",
   "metadata": {},
   "outputs": [],
   "source": [
    "save_model_path: str = '-'\n",
    "\n",
    "model.save_pretrained(save_model_path)\n",
    "tokenizer.save_pretrained(save_model_path)"
   ]
  },
  {
   "cell_type": "markdown",
   "id": "1a71f940",
   "metadata": {},
   "source": [
    "### model evaluation"
   ]
  },
  {
   "cell_type": "code",
   "execution_count": null,
   "id": "850955b3",
   "metadata": {},
   "outputs": [],
   "source": [
    "model_path: str = '-'\n",
    "\n",
    "tokenizer = AutoTokenizer.from_pretrained(model_path)\n",
    "model = AutoModelForQuestionAnswering.from_pretrained(model_path)\n",
    "device: str = 'cuda' if torch.cuda.is_available() else 'cpu'\n",
    "model.to(device)"
   ]
  },
  {
   "cell_type": "code",
   "execution_count": null,
   "id": "69c301c9",
   "metadata": {},
   "outputs": [],
   "source": [
    "context = \"\"\"20 ноября 2025 года Институт татарской энциклопедии и регионоведения им. М. Хасанова Академии наук Республики Татарстан (ИТЭР АН РТ) проводит Всероссийскую научно-практическую конференцию «Казань тысячелетняя», приуроченную к 1020-летию основания города (2025), сообщается на сайте научного учреждения [1]1.\n",
    "\n",
    "Цель — обмен научным опытом и новейшими подходами в изучении вопросов по тысячелетней истории Казани и других старинных городов Российской Федерации (РФ), а также методикой создания отраслевых энциклопедий о городских агломерациях и мегаполисах.\n",
    "\n",
    "Тематические направления:\n",
    "Казань — город межнационального и межконфессионального согласия.\n",
    "Казань и другие старинные города России в исторической ретроспективе: архитектура, культура, экономика и повседневность.\n",
    "Городские агломерации в современной России: проблемы и перспективы развития.\n",
    "Энциклопедии о городах России и Татарстана: научно-методологические и практические подходы.\n",
    "Города и их историографы: прошлое и настоящее.\n",
    "Заявки на участие принимаются до 30 сентября 2025 года, статьи — до 20 октября 2025 года.\"\"\"\n",
    "\n",
    "question = \"где сообщается новость?\"\n",
    "\n",
    "\n",
    "def get_qa_answer(question: str, context: str) -> str:\n",
    "    inputs = tokenizer(\n",
    "        question,\n",
    "        context,\n",
    "        return_tensors=\"pt\",\n",
    "        truncation=True,\n",
    "        padding=True,\n",
    "        max_length=512,\n",
    "        return_offsets_mapping=True  \n",
    "    ).to(device)\n",
    "    \n",
    "    offset_mapping = inputs.pop(\"offset_mapping\")[0]\n",
    "    with torch.no_grad():\n",
    "        outputs = model(**inputs)  \n",
    "        \n",
    "    answer_start_token: int = torch.argmax(outputs.start_logits).item()\n",
    "    answer_end_token: int = torch.argmax(outputs.end_logits).item() + 1  \n",
    "    \n",
    "    start_char: int = offset_mapping[answer_start_token][0].item()  \n",
    "    end_char: int = offset_mapping[answer_end_token - 1][1].item()  \n",
    "    \n",
    "    model_answer: str = context[start_char:end_char]\n",
    "    return {\n",
    "        'model_answer': model_answer,\n",
    "        'answer_indices': [start_char, end_char]\n",
    "    }\n",
    "\n",
    "get_qa_answer(question=question, context=context)"
   ]
  },
  {
   "cell_type": "code",
   "execution_count": null,
   "id": "73bc1cf5",
   "metadata": {},
   "outputs": [],
   "source": [
    "validation_df = pd.DataFrame(raw_datasets['validation'])\n",
    "validation_df['new_answer'] = ''\n",
    "validation_df['new_start_ind'] = ''\n",
    "\n",
    "validation_df.head()"
   ]
  },
  {
   "cell_type": "code",
   "execution_count": null,
   "id": "d6176955",
   "metadata": {},
   "outputs": [],
   "source": [
    "total_correct: int = 0\n",
    "total_incorrect: int = 0\n",
    "\n",
    "\n",
    "for ind in range(len(validation_df)):\n",
    "    question: str = validation_df.loc[ind, 'question']\n",
    "    context: str = validation_df.loc[ind, 'context']\n",
    "\n",
    "    correct_answer: str = validation_df.loc[ind, 'answers']['text'][0]\n",
    "    correct_start_ind: int = validation_df.loc[ind, 'answers']['answer_start'][0]\n",
    "\n",
    "    model_answer: dict = get_qa_answer(question=question, context=context)\n",
    "\n",
    "    validation_df.loc[ind, 'new_answer'] = model_answer['model_answer']\n",
    "    validation_df.loc[ind, 'new_start_ind'] = model_answer['answer_indices'][0]\n",
    "\n",
    "    if ((correct_answer.lower() in model_answer['model_answer'].lower()) or \n",
    "            (model_answer['model_answer'].lower() in correct_answer.lower()) or \n",
    "            (correct_answer.lower().lower() == model_answer['model_answer'].lower())):\n",
    "        total_correct += 1\n",
    "\n",
    "    else:\n",
    "        total_incorrect += 1\n",
    "\n",
    "    if ind%50 == 0:\n",
    "        print(f'runned {ind} / {len(validation_df)} records')\n",
    "        validation_df.to_csv('', index=False)\n",
    "\n",
    "\n",
    "validation_df.to_csv('', index=False)"
   ]
  },
  {
   "cell_type": "code",
   "execution_count": null,
   "id": "103e8373",
   "metadata": {},
   "outputs": [],
   "source": [
    "print(total_correct / (total_correct + total_incorrect))"
   ]
  }
 ],
 "metadata": {
  "kernelspec": {
   "display_name": "research_kernel3-10-12",
   "language": "python",
   "name": "research_kernel3-10-12"
  }
 },
 "nbformat": 4,
 "nbformat_minor": 5
}
